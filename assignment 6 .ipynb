{
 "cells": [
  {
   "cell_type": "markdown",
   "id": "7f013442",
   "metadata": {},
   "source": [
    "1. What are escape characters, and how do you use them?"
   ]
  },
  {
   "cell_type": "markdown",
   "id": "9593a23f",
   "metadata": {},
   "source": [
    "ans To insert characters that are illegal in a string, use an escape character.\n",
    "sone other escape character \n",
    "\\' Single Quote\n",
    "\\\\Backslash\n",
    "\\n New Line\n",
    "\\r Carriage Return\n",
    "\\t\tTab\t\n",
    "\\b\tBackspace\t\n",
    "\\f\tForm Feed\t\n",
    "\\ooo\tOctal value\t\n",
    "\\xhh\tHex value\n"
   ]
  },
  {
   "cell_type": "code",
   "execution_count": 1,
   "id": "93385de3",
   "metadata": {},
   "outputs": [],
   "source": [
    "txt = \"We are the so-called \\\"alix\\\" from the north.\"#\"alix\" will give error sowe use \\\\ for correct output"
   ]
  },
  {
   "cell_type": "code",
   "execution_count": 27,
   "id": "ea8147aa",
   "metadata": {},
   "outputs": [
    {
     "data": {
      "text/plain": [
       "'We are the so-called \"alix\" from the north.'"
      ]
     },
     "execution_count": 27,
     "metadata": {},
     "output_type": "execute_result"
    }
   ],
   "source": [
    "txt"
   ]
  },
  {
   "cell_type": "markdown",
   "id": "db4b7730",
   "metadata": {},
   "source": [
    "2.What do the escape characters n and t stand for ?"
   ]
  },
  {
   "cell_type": "markdown",
   "id": "78dcba54",
   "metadata": {},
   "source": [
    "Ans: \\n is a newline, \\t is a tab"
   ]
  },
  {
   "cell_type": "markdown",
   "id": "bc11863d",
   "metadata": {},
   "source": [
    "3.What is the way to include backslash character in a string?"
   ]
  },
  {
   "cell_type": "markdown",
   "id": "02ea867d",
   "metadata": {},
   "source": [
    "Ans: The \\\\ escape character will represent the backslash character in a string\n",
    "\"We are the so-called \\\"alix\\\" from the north.\""
   ]
  },
  {
   "cell_type": "code",
   "execution_count": 3,
   "id": "523d7331",
   "metadata": {},
   "outputs": [],
   "source": [
    " "
   ]
  },
  {
   "cell_type": "markdown",
   "id": "d7b6c298",
   "metadata": {},
   "source": [
    "4.The string \"Howl's Moving Castle\" is a correct value. Why isn't the single quote character in the word Howl's not escaped a problem ?"
   ]
  },
  {
   "cell_type": "markdown",
   "id": "22824ac5",
   "metadata": {},
   "source": [
    "Ans: The string \"Howl's Moving Castle\" escaped the problem because it is wrapped inside double quotes. if its wrapped inside single quotes then we have to use escape character \\' to show single quote in the final output\n",
    "'Howl\\'s Moving Castle' -> 'Howl's Moving Castle'"
   ]
  },
  {
   "cell_type": "code",
   "execution_count": null,
   "id": "ef54e866",
   "metadata": {},
   "outputs": [],
   "source": []
  },
  {
   "cell_type": "markdown",
   "id": "a2be7db9",
   "metadata": {},
   "source": [
    "5.How do you write a string of newlines if you don't want to use the n character?"
   ]
  },
  {
   "cell_type": "markdown",
   "id": "3f06754c",
   "metadata": {},
   "source": [
    "Ans: Multiline string allow you to use newlines in string without the \\n escape character"
   ]
  },
  {
   "cell_type": "code",
   "execution_count": 10,
   "id": "a3b26ebd",
   "metadata": {},
   "outputs": [
    {
     "name": "stdout",
     "output_type": "stream",
     "text": [
      "hi saurabh how r u \n",
      "everthing is going \n",
      "good or not\n"
     ]
    }
   ],
   "source": [
    "# Example:\n",
    "a = '''hi saurabh how r u \n",
    "everthing is going \n",
    "good or not'''\n",
    "print(a)"
   ]
  },
  {
   "cell_type": "markdown",
   "id": "55778e71",
   "metadata": {},
   "source": [
    "#6.What are the values of the given expressions ?\n",
    "'Hello, world!'[1]\n",
    "'Hello, world!'[0:5]\n",
    "'Hello, world!'[:5]\n",
    "'Hello, world!'[3:]"
   ]
  },
  {
   "cell_type": "code",
   "execution_count": 14,
   "id": "2346a404",
   "metadata": {},
   "outputs": [
    {
     "data": {
      "text/plain": [
       "'e'"
      ]
     },
     "execution_count": 14,
     "metadata": {},
     "output_type": "execute_result"
    }
   ],
   "source": [
    "'Hello, world!'[1]\n"
   ]
  },
  {
   "cell_type": "code",
   "execution_count": 15,
   "id": "f98a4c05",
   "metadata": {},
   "outputs": [
    {
     "data": {
      "text/plain": [
       "'Hello'"
      ]
     },
     "execution_count": 15,
     "metadata": {},
     "output_type": "execute_result"
    }
   ],
   "source": [
    "'Hello, world!'[0:5]"
   ]
  },
  {
   "cell_type": "code",
   "execution_count": 16,
   "id": "2e24ede9",
   "metadata": {},
   "outputs": [
    {
     "data": {
      "text/plain": [
       "'Hello'"
      ]
     },
     "execution_count": 16,
     "metadata": {},
     "output_type": "execute_result"
    }
   ],
   "source": [
    "'Hello, world!'[:5]"
   ]
  },
  {
   "cell_type": "code",
   "execution_count": 17,
   "id": "e9b86098",
   "metadata": {},
   "outputs": [
    {
     "data": {
      "text/plain": [
       "'lo, world!'"
      ]
     },
     "execution_count": 17,
     "metadata": {},
     "output_type": "execute_result"
    }
   ],
   "source": [
    "'Hello, world!'[3:]"
   ]
  },
  {
   "cell_type": "markdown",
   "id": "2c31cc0a",
   "metadata": {},
   "source": [
    "7.What are the values of the following expressions ?\n",
    "'Hello'.upper()\n",
    "'Hello'.upper().isupper()\n",
    "'Hello'.upper().lower()"
   ]
  },
  {
   "cell_type": "code",
   "execution_count": 18,
   "id": "58593de6",
   "metadata": {},
   "outputs": [
    {
     "data": {
      "text/plain": [
       "'HELLO'"
      ]
     },
     "execution_count": 18,
     "metadata": {},
     "output_type": "execute_result"
    }
   ],
   "source": [
    "'Hello'.upper()# conver in upercase"
   ]
  },
  {
   "cell_type": "code",
   "execution_count": 21,
   "id": "e54ffac4",
   "metadata": {},
   "outputs": [
    {
     "data": {
      "text/plain": [
       "True"
      ]
     },
     "execution_count": 21,
     "metadata": {},
     "output_type": "execute_result"
    }
   ],
   "source": [
    "'Hello'.upper().isupper()"
   ]
  },
  {
   "cell_type": "code",
   "execution_count": 22,
   "id": "bf43928c",
   "metadata": {},
   "outputs": [
    {
     "data": {
      "text/plain": [
       "'hello'"
      ]
     },
     "execution_count": 22,
     "metadata": {},
     "output_type": "execute_result"
    }
   ],
   "source": [
    "'Hello'.upper().lower()"
   ]
  },
  {
   "cell_type": "markdown",
   "id": "f4076d98",
   "metadata": {},
   "source": [
    "8.What are the values of the following expressions ?\n",
    "'Remember, remember, the fifith of July.'.split()\n",
    "-'.join('There can only one'.split())"
   ]
  },
  {
   "cell_type": "code",
   "execution_count": 23,
   "id": "ede5b3fa",
   "metadata": {},
   "outputs": [
    {
     "data": {
      "text/plain": [
       "['Remember,', 'remember,', 'the', 'fifith', 'of', 'July.']"
      ]
     },
     "execution_count": 23,
     "metadata": {},
     "output_type": "execute_result"
    }
   ],
   "source": [
    "'Remember, remember, the fifith of July.'.split()"
   ]
  },
  {
   "cell_type": "code",
   "execution_count": 24,
   "id": "7ee94013",
   "metadata": {},
   "outputs": [
    {
     "data": {
      "text/plain": [
       "'There-can-only-one'"
      ]
     },
     "execution_count": 24,
     "metadata": {},
     "output_type": "execute_result"
    }
   ],
   "source": [
    "'-'.join('There can only one'.split())"
   ]
  },
  {
   "cell_type": "markdown",
   "id": "3934219c",
   "metadata": {},
   "source": [
    "10.What is the best way to remove whitespace characters from the start or end ?"
   ]
  },
  {
   "cell_type": "markdown",
   "id": "454fd4bf",
   "metadata": {},
   "source": [
    "use strip() function\n",
    "or can use lstrip() or r strrip()"
   ]
  },
  {
   "cell_type": "code",
   "execution_count": 26,
   "id": "44cd1e45",
   "metadata": {},
   "outputs": [
    {
     "data": {
      "text/plain": [
       "'sautghgd'"
      ]
     },
     "execution_count": 26,
     "metadata": {},
     "output_type": "execute_result"
    }
   ],
   "source": [
    "a =\"      sautghgd       \"\n",
    "a.strip()"
   ]
  },
  {
   "cell_type": "code",
   "execution_count": null,
   "id": "a63a3ecd",
   "metadata": {},
   "outputs": [],
   "source": []
  }
 ],
 "metadata": {
  "kernelspec": {
   "display_name": "Python 3 (ipykernel)",
   "language": "python",
   "name": "python3"
  },
  "language_info": {
   "codemirror_mode": {
    "name": "ipython",
    "version": 3
   },
   "file_extension": ".py",
   "mimetype": "text/x-python",
   "name": "python",
   "nbconvert_exporter": "python",
   "pygments_lexer": "ipython3",
   "version": "3.9.12"
  }
 },
 "nbformat": 4,
 "nbformat_minor": 5
}
