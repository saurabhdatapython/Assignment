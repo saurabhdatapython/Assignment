{
 "cells": [
  {
   "cell_type": "markdown",
   "id": "a1730f78",
   "metadata": {},
   "source": [
    "#Q 1 What exactly is []?"
   ]
  },
  {
   "cell_type": "markdown",
   "id": "b29a1511",
   "metadata": {},
   "source": [
    " ans it is a list with empty"
   ]
  },
  {
   "cell_type": "raw",
   "id": "a796b5a7",
   "metadata": {},
   "source": [
    "# Q 2 In a list of values stored in a variable called spam, how would you assign the value hello' as the third value? (Assume [2, 4, 6, 8, 10] are in spam.)"
   ]
  },
  {
   "cell_type": "code",
   "execution_count": 3,
   "id": "d9c5f30e",
   "metadata": {},
   "outputs": [],
   "source": [
    " spam =[2, 4, 6, 8, 10]"
   ]
  },
  {
   "cell_type": "raw",
   "id": "c7ae22cc",
   "metadata": {},
   "source": [
    "spam[2] = \"hello\""
   ]
  },
  {
   "cell_type": "code",
   "execution_count": 5,
   "id": "12a85cd8",
   "metadata": {},
   "outputs": [
    {
     "data": {
      "text/plain": [
       "[2, 4, 'hello', 8, 10]"
      ]
     },
     "execution_count": 5,
     "metadata": {},
     "output_type": "execute_result"
    }
   ],
   "source": [
    "spam"
   ]
  },
  {
   "cell_type": "raw",
   "id": "35dd9fc6",
   "metadata": {},
   "source": [
    "#Q 3 Lets pretend the spam includes the list ['a', 'b','c','d'] for the next three queries."
   ]
  },
  {
   "cell_type": "code",
   "execution_count": 3,
   "id": "162c80a4",
   "metadata": {},
   "outputs": [],
   "source": [
    "spam = [\"a\",\"b\",\"c\",\"d\"]"
   ]
  },
  {
   "cell_type": "code",
   "execution_count": null,
   "id": "aca44daf",
   "metadata": {},
   "outputs": [],
   "source": [
    "# Q 4 What is the value of spam[int(int(3 * 2) / 11)]?\n"
   ]
  },
  {
   "cell_type": "code",
   "execution_count": 4,
   "id": "38ca1899",
   "metadata": {},
   "outputs": [
    {
     "data": {
      "text/plain": [
       "'d'"
      ]
     },
     "execution_count": 4,
     "metadata": {},
     "output_type": "execute_result"
    }
   ],
   "source": [
    "spam[int(int('3' * 2) / 11)]"
   ]
  },
  {
   "cell_type": "code",
   "execution_count": null,
   "id": "370f9b17",
   "metadata": {},
   "outputs": [],
   "source": [
    "# Q 5 What is the value of spam[-1]?\n"
   ]
  },
  {
   "cell_type": "code",
   "execution_count": 19,
   "id": "23f3e5ea",
   "metadata": {},
   "outputs": [
    {
     "data": {
      "text/plain": [
       "'d'"
      ]
     },
     "execution_count": 19,
     "metadata": {},
     "output_type": "execute_result"
    }
   ],
   "source": [
    "spam[-1]"
   ]
  },
  {
   "cell_type": "code",
   "execution_count": null,
   "id": "8a8eceeb",
   "metadata": {},
   "outputs": [],
   "source": [
    "# Q 6 What is the value of spam[:2]?\n"
   ]
  },
  {
   "cell_type": "code",
   "execution_count": 22,
   "id": "58aeed9a",
   "metadata": {},
   "outputs": [
    {
     "data": {
      "text/plain": [
       "['a', 'b']"
      ]
     },
     "execution_count": 22,
     "metadata": {},
     "output_type": "execute_result"
    }
   ],
   "source": [
    "spam[:2]"
   ]
  },
  {
   "cell_type": "code",
   "execution_count": null,
   "id": "62e636ce",
   "metadata": {},
   "outputs": [],
   "source": [
    "#Q 7 Let's pretend bacon has the list [3.14, 'cat' 11, 'cat' True] for the next three questions.\n",
    "\n"
   ]
  },
  {
   "cell_type": "code",
   "execution_count": 24,
   "id": "dcd634a7",
   "metadata": {},
   "outputs": [
    {
     "data": {
      "text/plain": [
       "1"
      ]
     },
     "execution_count": 24,
     "metadata": {},
     "output_type": "execute_result"
    }
   ],
   "source": [
    "bacon.index(\"cat\")"
   ]
  },
  {
   "cell_type": "code",
   "execution_count": 23,
   "id": "b203c0d1",
   "metadata": {},
   "outputs": [],
   "source": [
    "bacon = [3.14,\"cat\",11,\"cat\",\"true\"]"
   ]
  },
  {
   "cell_type": "code",
   "execution_count": null,
   "id": "cac28cf5",
   "metadata": {},
   "outputs": [],
   "source": [
    "# Q 8How does bacon.append(99) change the look of the list value in bacon?\n"
   ]
  },
  {
   "cell_type": "code",
   "execution_count": 25,
   "id": "90ce7d11",
   "metadata": {},
   "outputs": [],
   "source": [
    "bacon.append(99)"
   ]
  },
  {
   "cell_type": "code",
   "execution_count": 26,
   "id": "952aea9e",
   "metadata": {},
   "outputs": [
    {
     "data": {
      "text/plain": [
       "[3.14, 'cat', 11, 'cat', 'true', 99]"
      ]
     },
     "execution_count": 26,
     "metadata": {},
     "output_type": "execute_result"
    }
   ],
   "source": [
    "bacon"
   ]
  },
  {
   "cell_type": "code",
   "execution_count": 29,
   "id": "1077e787",
   "metadata": {},
   "outputs": [],
   "source": [
    "# Q 9How does bacon.remove('cat') change the look of the list in bacon?\n"
   ]
  },
  {
   "cell_type": "code",
   "execution_count": 30,
   "id": "d1cf0250",
   "metadata": {},
   "outputs": [],
   "source": [
    "bacon.remove(\"cat\")"
   ]
  },
  {
   "cell_type": "code",
   "execution_count": 31,
   "id": "ca62219e",
   "metadata": {},
   "outputs": [
    {
     "data": {
      "text/plain": [
       "[3.14, 11, 'cat', 'true', 99]"
      ]
     },
     "execution_count": 31,
     "metadata": {},
     "output_type": "execute_result"
    }
   ],
   "source": [
    "bacon"
   ]
  },
  {
   "cell_type": "code",
   "execution_count": 32,
   "id": "900674c5",
   "metadata": {},
   "outputs": [],
   "source": [
    "#Q 10 What are the list concatenation and list replication operators?"
   ]
  },
  {
   "cell_type": "code",
   "execution_count": 33,
   "id": "0d97050c",
   "metadata": {},
   "outputs": [],
   "source": [
    "a= [1,2,3,4]"
   ]
  },
  {
   "cell_type": "code",
   "execution_count": 34,
   "id": "a5a9c7a7",
   "metadata": {},
   "outputs": [],
   "source": [
    "b=[3,4,5,6]"
   ]
  },
  {
   "cell_type": "code",
   "execution_count": 35,
   "id": "cda5bff4",
   "metadata": {},
   "outputs": [
    {
     "data": {
      "text/plain": [
       "[1, 2, 3, 4, 3, 4, 5, 6]"
      ]
     },
     "execution_count": 35,
     "metadata": {},
     "output_type": "execute_result"
    }
   ],
   "source": [
    "a+b"
   ]
  },
  {
   "cell_type": "code",
   "execution_count": 36,
   "id": "4816402c",
   "metadata": {},
   "outputs": [],
   "source": [
    "lst  = [3,4,5]\n",
    "lst1 = lst*4"
   ]
  },
  {
   "cell_type": "code",
   "execution_count": 37,
   "id": "8121d5d9",
   "metadata": {},
   "outputs": [
    {
     "data": {
      "text/plain": [
       "[3, 4, 5, 3, 4, 5, 3, 4, 5, 3, 4, 5]"
      ]
     },
     "execution_count": 37,
     "metadata": {},
     "output_type": "execute_result"
    }
   ],
   "source": [
    "lst1"
   ]
  },
  {
   "cell_type": "code",
   "execution_count": 38,
   "id": "3c94cdb3",
   "metadata": {},
   "outputs": [],
   "source": [
    "Q 11 What is difference between the list methods append() and insert()?"
   ]
  },
  {
   "cell_type": "code",
   "execution_count": 39,
   "id": "0b4526e1",
   "metadata": {},
   "outputs": [],
   "source": [
    "# list insert value at last of list"
   ]
  },
  {
   "cell_type": "code",
   "execution_count": 40,
   "id": "c5eed922",
   "metadata": {},
   "outputs": [],
   "source": [
    "a= [1,2,3,4,5]"
   ]
  },
  {
   "cell_type": "code",
   "execution_count": 41,
   "id": "1a669f63",
   "metadata": {},
   "outputs": [],
   "source": [
    "a.append(9)"
   ]
  },
  {
   "cell_type": "code",
   "execution_count": 42,
   "id": "ca839b73",
   "metadata": {},
   "outputs": [
    {
     "data": {
      "text/plain": [
       "[1, 2, 3, 4, 5, 9]"
      ]
     },
     "execution_count": 42,
     "metadata": {},
     "output_type": "execute_result"
    }
   ],
   "source": [
    "a"
   ]
  },
  {
   "cell_type": "code",
   "execution_count": 43,
   "id": "4e51ba86",
   "metadata": {},
   "outputs": [],
   "source": [
    "# insert function insert value by indexes"
   ]
  },
  {
   "cell_type": "code",
   "execution_count": 44,
   "id": "bd245fbd",
   "metadata": {},
   "outputs": [],
   "source": [
    "a= [1,2,3,4]"
   ]
  },
  {
   "cell_type": "code",
   "execution_count": 46,
   "id": "bacd406f",
   "metadata": {},
   "outputs": [],
   "source": [
    "a.insert(2,12)"
   ]
  },
  {
   "cell_type": "code",
   "execution_count": 47,
   "id": "5cc48b0a",
   "metadata": {},
   "outputs": [
    {
     "data": {
      "text/plain": [
       "[1, 2, 12, 3, 4]"
      ]
     },
     "execution_count": 47,
     "metadata": {},
     "output_type": "execute_result"
    }
   ],
   "source": [
    "a"
   ]
  },
  {
   "cell_type": "code",
   "execution_count": 48,
   "id": "9baae81f",
   "metadata": {},
   "outputs": [],
   "source": [
    "# Q 12What are the two methods for removing items from a list?"
   ]
  },
  {
   "cell_type": "code",
   "execution_count": 56,
   "id": "1af6d6c1",
   "metadata": {},
   "outputs": [],
   "source": [
    "a= [\"top\",2,3,4,5]"
   ]
  },
  {
   "cell_type": "code",
   "execution_count": 57,
   "id": "4e022e21",
   "metadata": {},
   "outputs": [],
   "source": [
    "a.remove(3)"
   ]
  },
  {
   "cell_type": "code",
   "execution_count": 58,
   "id": "381e3215",
   "metadata": {},
   "outputs": [
    {
     "data": {
      "text/plain": [
       "['top', 2, 4, 5]"
      ]
     },
     "execution_count": 58,
     "metadata": {},
     "output_type": "execute_result"
    }
   ],
   "source": [
    "a # it will remove 3 by math 3 is present in list or not"
   ]
  },
  {
   "cell_type": "code",
   "execution_count": 61,
   "id": "204ada14",
   "metadata": {},
   "outputs": [
    {
     "data": {
      "text/plain": [
       "4"
      ]
     },
     "execution_count": 61,
     "metadata": {},
     "output_type": "execute_result"
    }
   ],
   "source": [
    "a.pop() # it will  remove the last element from list"
   ]
  },
  {
   "cell_type": "code",
   "execution_count": 63,
   "id": "7fe569d0",
   "metadata": {},
   "outputs": [],
   "source": []
  },
  {
   "cell_type": "code",
   "execution_count": 64,
   "id": "a2c902e2",
   "metadata": {},
   "outputs": [],
   "source": [
    "#13. Describe how list values and string values are identical."
   ]
  },
  {
   "cell_type": "code",
   "execution_count": 69,
   "id": "16cc0ee8",
   "metadata": {},
   "outputs": [
    {
     "data": {
      "text/plain": [
       "'both are iterabel \\n      both are mutable \\n    can be replaced by other element\\n    can be sum to simler'"
      ]
     },
     "execution_count": 69,
     "metadata": {},
     "output_type": "execute_result"
    }
   ],
   "source": [
    "'''both are iterabel \n",
    "      both are mutable \n",
    "    can be replaced by other element\n",
    "    can be sum to simler'''\n",
    "    \n",
    "\n"
   ]
  },
  {
   "cell_type": "code",
   "execution_count": 70,
   "id": "6e3e98d5",
   "metadata": {},
   "outputs": [],
   "source": [
    "Q 14 Whatt is  the difference between tuples and lists?"
   ]
  },
  {
   "cell_type": "code",
   "execution_count": 71,
   "id": "683fbda4",
   "metadata": {},
   "outputs": [
    {
     "data": {
      "text/plain": [
       "'tuple define by ()\\nbut list define by []\\ntuple immutable \\nlist is mutable '"
      ]
     },
     "execution_count": 71,
     "metadata": {},
     "output_type": "execute_result"
    }
   ],
   "source": [
    "'''tuple define by ()\n",
    "but list define by []\n",
    "tuple immutable \n",
    "list is mutable '''"
   ]
  },
  {
   "cell_type": "code",
   "execution_count": null,
   "id": "b6d8afe4",
   "metadata": {},
   "outputs": [],
   "source": [
    "#15. How do you type a tuple value that only contains the integer 42?"
   ]
  },
  {
   "cell_type": "code",
   "execution_count": 74,
   "id": "b90c324e",
   "metadata": {},
   "outputs": [],
   "source": [
    "tup = (42)"
   ]
  },
  {
   "cell_type": "code",
   "execution_count": 75,
   "id": "48306912",
   "metadata": {},
   "outputs": [
    {
     "data": {
      "text/plain": [
       "42"
      ]
     },
     "execution_count": 75,
     "metadata": {},
     "output_type": "execute_result"
    }
   ],
   "source": [
    "tup"
   ]
  },
  {
   "cell_type": "code",
   "execution_count": null,
   "id": "67a79b22",
   "metadata": {},
   "outputs": [],
   "source": [
    "# Q 16 How do you get a list value's tuple form? How do you get a tuple value's list form?"
   ]
  },
  {
   "cell_type": "code",
   "execution_count": 76,
   "id": "22c1bf1b",
   "metadata": {},
   "outputs": [],
   "source": [
    "lis = [2,3,6]"
   ]
  },
  {
   "cell_type": "code",
   "execution_count": 78,
   "id": "4429ac1a",
   "metadata": {},
   "outputs": [],
   "source": [
    "t = tuple(lis)"
   ]
  },
  {
   "cell_type": "code",
   "execution_count": 79,
   "id": "7d42a6fd",
   "metadata": {},
   "outputs": [
    {
     "data": {
      "text/plain": [
       "(2, 3, 6)"
      ]
     },
     "execution_count": 79,
     "metadata": {},
     "output_type": "execute_result"
    }
   ],
   "source": [
    "t"
   ]
  },
  {
   "cell_type": "code",
   "execution_count": 80,
   "id": "6eab7739",
   "metadata": {},
   "outputs": [
    {
     "data": {
      "text/plain": [
       "tuple"
      ]
     },
     "execution_count": 80,
     "metadata": {},
     "output_type": "execute_result"
    }
   ],
   "source": [
    "type(t)"
   ]
  },
  {
   "cell_type": "code",
   "execution_count": 81,
   "id": "0e6bda7e",
   "metadata": {},
   "outputs": [],
   "source": [
    "tp = (1,6,8)"
   ]
  },
  {
   "cell_type": "code",
   "execution_count": 82,
   "id": "0da00bc8",
   "metadata": {},
   "outputs": [],
   "source": [
    "b =list(tp)"
   ]
  },
  {
   "cell_type": "code",
   "execution_count": 83,
   "id": "6c3a4cd3",
   "metadata": {},
   "outputs": [
    {
     "data": {
      "text/plain": [
       "[1, 6, 8]"
      ]
     },
     "execution_count": 83,
     "metadata": {},
     "output_type": "execute_result"
    }
   ],
   "source": [
    "b"
   ]
  },
  {
   "cell_type": "code",
   "execution_count": 84,
   "id": "f8b5743a",
   "metadata": {},
   "outputs": [
    {
     "data": {
      "text/plain": [
       "list"
      ]
     },
     "execution_count": 84,
     "metadata": {},
     "output_type": "execute_result"
    }
   ],
   "source": [
    "type(b)"
   ]
  },
  {
   "cell_type": "code",
   "execution_count": 85,
   "id": "e7cda650",
   "metadata": {},
   "outputs": [],
   "source": [
    "# Q 17 Variables that \"contain\" list values are not necessarily lists themselves. Instead, what do they contain?"
   ]
  },
  {
   "cell_type": "code",
   "execution_count": 86,
   "id": "ee6db015",
   "metadata": {},
   "outputs": [],
   "source": [
    "#thay can contain dynamicly  as per requirment\n",
    "a= [1,2,3,4,\"foo\"]"
   ]
  },
  {
   "cell_type": "code",
   "execution_count": 87,
   "id": "0c8a485c",
   "metadata": {},
   "outputs": [],
   "source": [
    "a = 34"
   ]
  },
  {
   "cell_type": "code",
   "execution_count": 88,
   "id": "d66f691c",
   "metadata": {},
   "outputs": [],
   "source": [
    "a= \"str\""
   ]
  },
  {
   "cell_type": "code",
   "execution_count": 89,
   "id": "5a85319a",
   "metadata": {},
   "outputs": [],
   "source": [
    "a=(4,5,6,7)"
   ]
  },
  {
   "cell_type": "code",
   "execution_count": 90,
   "id": "3aa01428",
   "metadata": {},
   "outputs": [],
   "source": [
    "# Q 18 How do you distinguish between copy.copy() and copy.deepcopy()?"
   ]
  },
  {
   "cell_type": "code",
   "execution_count": 95,
   "id": "0aa082d5",
   "metadata": {},
   "outputs": [],
   "source": [
    "# ANS The copy.copy() function will do a shallow copy of a list,"
   ]
  },
  {
   "cell_type": "code",
   "execution_count": 96,
   "id": "bab33e1b",
   "metadata": {},
   "outputs": [],
   "source": [
    "#The copy.deepcopy() function will do a deep copy of a list. only copy.deepcopy() will duplicate any lists inside the list"
   ]
  },
  {
   "cell_type": "code",
   "execution_count": null,
   "id": "6bc2cd76",
   "metadata": {},
   "outputs": [],
   "source": []
  }
 ],
 "metadata": {
  "kernelspec": {
   "display_name": "Python 3 (ipykernel)",
   "language": "python",
   "name": "python3"
  },
  "language_info": {
   "codemirror_mode": {
    "name": "ipython",
    "version": 3
   },
   "file_extension": ".py",
   "mimetype": "text/x-python",
   "name": "python",
   "nbconvert_exporter": "python",
   "pygments_lexer": "ipython3",
   "version": "3.9.12"
  }
 },
 "nbformat": 4,
 "nbformat_minor": 5
}
