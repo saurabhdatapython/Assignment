{
 "cells": [
  {
   "cell_type": "code",
   "execution_count": 8,
   "id": "0d20bebd",
   "metadata": {},
   "outputs": [],
   "source": [
    "#1. What is the name of the feature responsible for generating Regex objects?"
   ]
  },
  {
   "cell_type": "code",
   "execution_count": 9,
   "id": "d6438af1",
   "metadata": {},
   "outputs": [],
   "source": [
    "#Ans: re.compile() is the feature responsible for generation of Regex objects."
   ]
  },
  {
   "cell_type": "code",
   "execution_count": 13,
   "id": "960a912f",
   "metadata": {},
   "outputs": [
    {
     "data": {
      "text/plain": [
       "re.Pattern"
      ]
     },
     "execution_count": 13,
     "metadata": {},
     "output_type": "execute_result"
    }
   ],
   "source": [
    "import re\n",
    "a= re.compile(\"yes is recompile\")\n",
    "type(a)\n"
   ]
  },
  {
   "cell_type": "code",
   "execution_count": 14,
   "id": "03111d03",
   "metadata": {},
   "outputs": [
    {
     "name": "stdout",
     "output_type": "stream",
     "text": [
      "re.compile('yes is recompile')\n"
     ]
    }
   ],
   "source": [
    "print(a)"
   ]
  },
  {
   "cell_type": "code",
   "execution_count": 15,
   "id": "7d654bb5",
   "metadata": {},
   "outputs": [],
   "source": [
    "#2. Why do raw strings often appear in Regex objects?"
   ]
  },
  {
   "cell_type": "code",
   "execution_count": 16,
   "id": "b3923dfd",
   "metadata": {},
   "outputs": [],
   "source": [
    "#Ans: Regular expressions use the backslash character ('\\') to indicate special forms (Metacharacters) or to allow special characters (speical sequences) to be used without invoking their special meaning. This collides with Python’s usage of the same character #for the same purpose in string literals. Hence, Raw strings are used (e.g. r\"\\n\") so that backslashes do not have to be escaped."
   ]
  },
  {
   "cell_type": "code",
   "execution_count": 17,
   "id": "5ab70d9e",
   "metadata": {},
   "outputs": [],
   "source": [
    "# Q 3. What is the return value of the search() method?"
   ]
  },
  {
   "cell_type": "code",
   "execution_count": 31,
   "id": "86dce62f",
   "metadata": {},
   "outputs": [
    {
     "name": "stdout",
     "output_type": "stream",
     "text": [
      "<re.Match object; span=(3, 7), match='sonu'>\n",
      "None\n"
     ]
    }
   ],
   "source": [
    "import re\n",
    "find = re.search('Sonu',\"hi sonu how r u\",flags=re.IGNORECASE )\n",
    "non_find = re.search('p',\"hi sonu how r u\",flags=re.IGNORECASE)\n",
    "print(find)\n",
    "print(non_find)"
   ]
  },
  {
   "cell_type": "code",
   "execution_count": 32,
   "id": "9b024222",
   "metadata": {},
   "outputs": [],
   "source": [
    "#Ans: The return value of re.search(pattern,string) method is a match object if the pattern is observed in the string else it returns a None"
   ]
  },
  {
   "cell_type": "code",
   "execution_count": null,
   "id": "d5db11e1",
   "metadata": {},
   "outputs": [],
   "source": [
    "#Q 4. From a Match item, how do you get the actual strings that match the pattern?"
   ]
  },
  {
   "cell_type": "code",
   "execution_count": 35,
   "id": "7fcfe15e",
   "metadata": {},
   "outputs": [
    {
     "name": "stdout",
     "output_type": "stream",
     "text": [
      "kumar\n"
     ]
    }
   ],
   "source": [
    "import re\n",
    "find = re.search('kumar',\"hi kumar how r u\",flags=re.IGNORECASE )\n",
    "print(find.group())"
   ]
  },
  {
   "cell_type": "code",
   "execution_count": 36,
   "id": "f184633b",
   "metadata": {},
   "outputs": [],
   "source": [
    "#Ans: For Matched items group() methods returns pure strings that match the pattern"
   ]
  },
  {
   "cell_type": "code",
   "execution_count": 37,
   "id": "eacaecbd",
   "metadata": {},
   "outputs": [],
   "source": [
    "#Q 5. In the regex which created from the r'(\\d\\d\\d)-(\\d\\d\\d-\\d\\d\\d\\d)', what does group zero cover? Group 2? Group 1?"
   ]
  },
  {
   "cell_type": "code",
   "execution_count": 52,
   "id": "80df0871",
   "metadata": {},
   "outputs": [
    {
     "name": "stdout",
     "output_type": "stream",
     "text": [
      "('123', '345-6789')\n",
      "123-345-6789\n",
      "123\n",
      "345-6789\n"
     ]
    }
   ],
   "source": [
    "import re\n",
    "sample_formet = re.compile(r'(\\d\\d\\d)-(\\d\\d\\d-\\d\\d\\d\\d)')\n",
    "date_sam = sample_formet.search(\"this is date  123-345-6789.\" )\n",
    "print(date_sam.groups())# Prints all groups in a tuple format\n",
    "print(date_sam.group())# return pure match string\n",
    "print(date_sam.group(1))#return first group value\n",
    "print(date_sam.group(2))#return second group value\n"
   ]
  },
  {
   "cell_type": "code",
   "execution_count": 58,
   "id": "7f3a8d6a",
   "metadata": {},
   "outputs": [],
   "source": [
    "#ans In the Regex r'(\\d\\d\\d)-(\\d\\d\\d-\\d\\d\\d\\d)' the zero group covers the entire pattern match where as the first group cover (\\d\\d\\d) and the second group cover (\\d\\d\\d-\\d\\d\\d\\d)"
   ]
  },
  {
   "cell_type": "code",
   "execution_count": null,
   "id": "52958eb9",
   "metadata": {},
   "outputs": [],
   "source": []
  },
  {
   "cell_type": "code",
   "execution_count": 54,
   "id": "b738055a",
   "metadata": {},
   "outputs": [],
   "source": [
    "#q 6. #In standard expression syntax, parentheses and intervals have distinct meanings. How can you tell a regex that you want it to fit real parentheses and periods?"
   ]
  },
  {
   "cell_type": "code",
   "execution_count": 56,
   "id": "5856025c",
   "metadata": {},
   "outputs": [
    {
     "name": "stdout",
     "output_type": "stream",
     "text": [
      "123-345-6789\n"
     ]
    }
   ],
   "source": [
    "import re\n",
    "\n",
    "sample_formet = re.compile(r'(\\d\\d\\d)-(\\d\\d\\d-\\d\\d\\d\\d)')\n",
    "date_sam = sample_formet.search(\"this is date  123-345-6789.\" )\n",
    "print(date_sam.group())\n"
   ]
  },
  {
   "cell_type": "code",
   "execution_count": 57,
   "id": "e0a25c8c",
   "metadata": {},
   "outputs": [],
   "source": [
    "#ans The \\. \\( and \\) escape characters in the raw string passed to re.compile() will match actual parenthesis characters."
   ]
  },
  {
   "cell_type": "code",
   "execution_count": null,
   "id": "304ff772",
   "metadata": {},
   "outputs": [],
   "source": []
  },
  {
   "cell_type": "code",
   "execution_count": 59,
   "id": "e49988aa",
   "metadata": {},
   "outputs": [],
   "source": [
    "# Q 7. The findall() method returns a string list or a list of string tuples. What causes it to return one of the two options?"
   ]
  },
  {
   "cell_type": "code",
   "execution_count": 63,
   "id": "5b6d1e94",
   "metadata": {},
   "outputs": [
    {
     "name": "stdout",
     "output_type": "stream",
     "text": [
      "[('123', '345-6789')]\n"
     ]
    }
   ],
   "source": [
    "sample_formet = re.compile(r'(\\d\\d\\d)-(\\d\\d\\d-\\d\\d\\d\\d)')\n",
    "date_sam = sample_formet.findall(\"this is date  123-345-6789.\" )\n",
    "print(date_sam)\n"
   ]
  },
  {
   "cell_type": "code",
   "execution_count": 64,
   "id": "3c4cd93b",
   "metadata": {},
   "outputs": [
    {
     "name": "stdout",
     "output_type": "stream",
     "text": [
      "['415-555-4242']\n"
     ]
    }
   ],
   "source": [
    "import re\n",
    "sample_formet = re.compile(r'\\d{3}-\\d{3}-\\d{4}')\n",
    "date_sam = sample_formet.findall('My number is 415-555-4242.')\n",
    "print(date_sam)\n"
   ]
  },
  {
   "cell_type": "code",
   "execution_count": 65,
   "id": "23bfbcee",
   "metadata": {},
   "outputs": [],
   "source": [
    "#ans If the regex pattern has no groups, a list of strings matched is returned. if the regex pattern has groups, a list of tuple of strings is returned."
   ]
  },
  {
   "cell_type": "code",
   "execution_count": null,
   "id": "2d3223dc",
   "metadata": {},
   "outputs": [],
   "source": []
  },
  {
   "cell_type": "code",
   "execution_count": 66,
   "id": "f3e37098",
   "metadata": {},
   "outputs": [],
   "source": [
    "# Q 8 In standard expressions, what does the | character mean?"
   ]
  },
  {
   "cell_type": "code",
   "execution_count": 68,
   "id": "bb828514",
   "metadata": {},
   "outputs": [],
   "source": [
    "# ans  it is use as a or operator"
   ]
  },
  {
   "cell_type": "code",
   "execution_count": null,
   "id": "2e1ad5b8",
   "metadata": {},
   "outputs": [],
   "source": []
  },
  {
   "cell_type": "code",
   "execution_count": 69,
   "id": "6566c210",
   "metadata": {},
   "outputs": [],
   "source": [
    "#Q 9 In standard expressions, what does the | character mean?"
   ]
  },
  {
   "cell_type": "code",
   "execution_count": 85,
   "id": "5b4bd5c4",
   "metadata": {},
   "outputs": [
    {
     "name": "stdout",
     "output_type": "stream",
     "text": [
      "<re.Match object; span=(11, 18), match='saurabh'>\n",
      "<re.Match object; span=(0, 7), match='saurabh'>\n"
     ]
    }
   ],
   "source": [
    "import re\n",
    "match_1 = re.search(\"sa(po)?urabh\",\"my name is saurabh\")\n",
    "print(match_1)\n",
    "match_2 = re.search(\"sa(ur)?abh\",\"saurabh kumar\")\n",
    "print(match_2)"
   ]
  },
  {
   "cell_type": "code",
   "execution_count": 80,
   "id": "e65b805d",
   "metadata": {},
   "outputs": [
    {
     "name": "stdout",
     "output_type": "stream",
     "text": [
      "<re.Match object; span=(0, 6), match='Batman'>\n"
     ]
    }
   ],
   "source": [
    "#Ans: In regular Expressions, ? characters represents zero or one match of the preceeding group.\n"
   ]
  },
  {
   "cell_type": "code",
   "execution_count": null,
   "id": "e43d5271",
   "metadata": {},
   "outputs": [],
   "source": []
  },
  {
   "cell_type": "code",
   "execution_count": 86,
   "id": "f5d1e5c5",
   "metadata": {},
   "outputs": [],
   "source": [
    "# Q 10.In regular expressions, what is the difference between the + and * characters?"
   ]
  },
  {
   "cell_type": "code",
   "execution_count": 87,
   "id": "e9f7778d",
   "metadata": {},
   "outputs": [
    {
     "name": "stdout",
     "output_type": "stream",
     "text": [
      "<re.Match object; span=(11, 18), match='saurabh'>\n",
      "None\n"
     ]
    }
   ],
   "source": [
    "import re\n",
    "match_1 = re.search(\"sa(po)*urabh\",\"my name is saurabh\")\n",
    "print(match_1)\n",
    "match_2 = re.search(\"sa(po)+abh\",\"saurabh kumar\")\n",
    "print(match_2)"
   ]
  },
  {
   "cell_type": "code",
   "execution_count": 88,
   "id": "9b530659",
   "metadata": {},
   "outputs": [],
   "source": [
    "#Ans: In Regular Expressions, * Represents Zero ore more occurances of the preceeding group, whereas + represents one or more occurances of the preceeding group."
   ]
  },
  {
   "cell_type": "code",
   "execution_count": null,
   "id": "e60e5743",
   "metadata": {},
   "outputs": [],
   "source": []
  },
  {
   "cell_type": "code",
   "execution_count": null,
   "id": "5da9960b",
   "metadata": {},
   "outputs": [],
   "source": [
    "#Q 11 What is the difference between {4} and {4,5} in regular expression?"
   ]
  },
  {
   "cell_type": "code",
   "execution_count": 98,
   "id": "ee89dca2",
   "metadata": {},
   "outputs": [
    {
     "name": "stdout",
     "output_type": "stream",
     "text": [
      "howhowhow\n",
      "None\n"
     ]
    }
   ],
   "source": [
    "import re\n",
    "haRegex = re.compile(r'(how){3}')\n",
    "mo1 = haRegex.search('howhowhow')\n",
    "mo2 = haRegex.search('how')\n",
    "print(mo1.group())\n",
    "print(mo2)\n"
   ]
  },
  {
   "cell_type": "code",
   "execution_count": 99,
   "id": "e8a73d2a",
   "metadata": {},
   "outputs": [],
   "source": [
    "#Ans: {4} means that its preceeding group should repeat 4 times. where as {4,5} means that its preceeding group should repeat mininum 4 times and maximum 5 times inclusively"
   ]
  },
  {
   "cell_type": "code",
   "execution_count": null,
   "id": "3650197a",
   "metadata": {},
   "outputs": [],
   "source": []
  },
  {
   "cell_type": "code",
   "execution_count": 100,
   "id": "b192f996",
   "metadata": {},
   "outputs": [],
   "source": [
    "# Q 12  What do you mean by the \\d, \\w, and \\s shorthand character classes signify in regular expressions?"
   ]
  },
  {
   "cell_type": "code",
   "execution_count": 101,
   "id": "0635ba54",
   "metadata": {},
   "outputs": [
    {
     "data": {
      "text/plain": [
       "'Ans: \\\\d, \\\\w and \\\\s are special sequences in regular expresssions in python:\\n\\n\\\\w – Matches a word character equivalent to [a-zA-Z0-9_]\\n\\\\d – Matches digit character equivalent to [0-9]\\n\\\\s – Matches whitespace character (space, tab, newline, etc.)'"
      ]
     },
     "execution_count": 101,
     "metadata": {},
     "output_type": "execute_result"
    }
   ],
   "source": [
    "'''Ans: \\d, \\w and \\s are special sequences in regular expresssions in python:\n",
    "\n",
    "\\w – Matches a word character equivalent to [a-zA-Z0-9_]\n",
    "\\d – Matches digit character equivalent to [0-9]\n",
    "\\s – Matches whitespace character (space, tab, newline, etc.)'''"
   ]
  },
  {
   "cell_type": "code",
   "execution_count": null,
   "id": "0ebe2856",
   "metadata": {},
   "outputs": [],
   "source": []
  },
  {
   "cell_type": "code",
   "execution_count": 102,
   "id": "77ce3221",
   "metadata": {},
   "outputs": [],
   "source": [
    "#Q 13. What do means by \\D, \\W, and \\S shorthand character classes signify in regular expressions?"
   ]
  },
  {
   "cell_type": "code",
   "execution_count": null,
   "id": "783ff232",
   "metadata": {},
   "outputs": [],
   "source": [
    "'''Ans: \\D, \\W and \\S are special sequences in regular expresssions in python:\n",
    "\n",
    "\\W – Matches any non-alphanumeric character equivalent to [^a-zA-Z0-9_]\n",
    "\\D – Matches any non-digit character, this is equivalent to the set class [^0-9]\n",
    "\\S – Matches any non-whitespace character '''"
   ]
  },
  {
   "cell_type": "code",
   "execution_count": null,
   "id": "4ac53176",
   "metadata": {},
   "outputs": [],
   "source": []
  },
  {
   "cell_type": "code",
   "execution_count": 103,
   "id": "f2a093f9",
   "metadata": {},
   "outputs": [],
   "source": [
    "#14. What is the difference between .*? and .*?"
   ]
  },
  {
   "cell_type": "code",
   "execution_count": 104,
   "id": "8ccf78df",
   "metadata": {},
   "outputs": [],
   "source": [
    "# Ans: .* is a Greedy mode, which returns the longest string that meets the condition. Whereas .*? is a non greedy mode which returns the shortest string that meets the condition."
   ]
  },
  {
   "cell_type": "code",
   "execution_count": null,
   "id": "e66d8d95",
   "metadata": {},
   "outputs": [],
   "source": []
  },
  {
   "cell_type": "code",
   "execution_count": 105,
   "id": "7fdcda7e",
   "metadata": {},
   "outputs": [],
   "source": [
    "#Q 15. What is the syntax for matching both numbers and lowercase letters with a character class?\n",
    "\n",
    "\n"
   ]
  },
  {
   "cell_type": "code",
   "execution_count": 106,
   "id": "d5b0c840",
   "metadata": {},
   "outputs": [],
   "source": [
    "# Ans: The Synatax is Either [a-z0-9] or [0-9a-z]\n",
    "\n"
   ]
  },
  {
   "cell_type": "code",
   "execution_count": null,
   "id": "9cfba650",
   "metadata": {},
   "outputs": [],
   "source": []
  },
  {
   "cell_type": "code",
   "execution_count": 107,
   "id": "a07f760d",
   "metadata": {},
   "outputs": [],
   "source": [
    "#Q 16. What is the procedure for making a normal expression in regax case insensitive?"
   ]
  },
  {
   "cell_type": "code",
   "execution_count": 108,
   "id": "1393f5b2",
   "metadata": {},
   "outputs": [],
   "source": [
    "#Ans: We can pass re.IGNORECASE as a flag to make a noraml expression case insensitive"
   ]
  },
  {
   "cell_type": "code",
   "execution_count": null,
   "id": "3f7dea3b",
   "metadata": {},
   "outputs": [],
   "source": []
  },
  {
   "cell_type": "code",
   "execution_count": 110,
   "id": "2fb6a468",
   "metadata": {},
   "outputs": [],
   "source": [
    "#Q 17. What does the . character normally match? What does it match if re.DOTALL is passed as 2nd argument in re.compile()?"
   ]
  },
  {
   "cell_type": "code",
   "execution_count": 111,
   "id": "235d7049",
   "metadata": {},
   "outputs": [],
   "source": [
    "#Dot . character matches everything in input except newline character .. By passing re.DOTALL as a flag to re.compile(), you can make the dot character match all characters, including the newline character."
   ]
  },
  {
   "cell_type": "code",
   "execution_count": null,
   "id": "98ddb81f",
   "metadata": {},
   "outputs": [],
   "source": []
  },
  {
   "cell_type": "code",
   "execution_count": 112,
   "id": "fb78a9bb",
   "metadata": {},
   "outputs": [],
   "source": [
    "#Q 18  If numReg = re.compile(r'\\d+'), what will numRegex.sub('X', '11 drummers, 10 pipers, five rings, 4 hen') return?\n"
   ]
  },
  {
   "cell_type": "code",
   "execution_count": 117,
   "id": "88c59fb6",
   "metadata": {},
   "outputs": [
    {
     "data": {
      "text/plain": [
       "'X drummers, X pipers, five rings, X hen'"
      ]
     },
     "execution_count": 117,
     "metadata": {},
     "output_type": "execute_result"
    }
   ],
   "source": [
    "import re\n",
    "numReg = re.compile(r'\\d+')\n",
    "numReg.sub('X', '11 drummers, 10 pipers, five rings, 4 hen')"
   ]
  },
  {
   "cell_type": "code",
   "execution_count": 118,
   "id": "9aeaddd3",
   "metadata": {},
   "outputs": [],
   "source": [
    "#ans it will replace with x with position 11 "
   ]
  },
  {
   "cell_type": "code",
   "execution_count": null,
   "id": "0e75e330",
   "metadata": {},
   "outputs": [],
   "source": []
  },
  {
   "cell_type": "code",
   "execution_count": null,
   "id": "20b111e3",
   "metadata": {},
   "outputs": [],
   "source": [
    "#Q 19. What does passing re.VERBOSE as the 2nd argument to re.compile() allow to do?"
   ]
  },
  {
   "cell_type": "code",
   "execution_count": 119,
   "id": "6c1b34c1",
   "metadata": {},
   "outputs": [],
   "source": [
    "# Without Using VERBOSE\n",
    "regex_email = re.compile(r'^([a-z0-9_\\.-]+)@([0-9a-z\\.-]+)\\.([a-z\\.]{2, 6})$', re.IGNORECASE)\n",
    " \n",
    "# Using VERBOSE\n",
    "regex_email = re.compile(r\"\"\"\n",
    "                            ^([a-z0-9_\\.-]+)              # local Part like username\n",
    "                            @                             # single @ sign \n",
    "                            ([0-9a-z\\.-]+)                # Domain name like google\n",
    "                            \\.                            # single Dot .\n",
    "                            ([a-z]{2,6})$                 # Top level Domain  like com/in/org\n",
    "                         \"\"\",re.VERBOSE | re.IGNORECASE)   "
   ]
  },
  {
   "cell_type": "code",
   "execution_count": 120,
   "id": "475e82ee",
   "metadata": {},
   "outputs": [],
   "source": [
    "#ans  it allow white space and comment bitween expression "
   ]
  },
  {
   "cell_type": "code",
   "execution_count": null,
   "id": "045d7c33",
   "metadata": {},
   "outputs": [],
   "source": []
  },
  {
   "cell_type": "code",
   "execution_count": null,
   "id": "85590cec",
   "metadata": {},
   "outputs": [],
   "source": []
  },
  {
   "cell_type": "code",
   "execution_count": 123,
   "id": "aa5cfa80",
   "metadata": {},
   "outputs": [],
   "source": [
    " #Q 20. How would you write a regex that match a number with comma for every three digits? It must match the given following:\n",
    "#'42','1,234', '6,368,745'but not the following: '12,34,567' (which has only two digits between the commas) '1234' (which lacks commas)"
   ]
  },
  {
   "cell_type": "code",
   "execution_count": 124,
   "id": "325f49d0",
   "metadata": {},
   "outputs": [
    {
     "name": "stdout",
     "output_type": "stream",
     "text": [
      "Output: 42 -> <re.Match object; span=(0, 2), match='42'>\n",
      "Output: 1,234 -> <re.Match object; span=(0, 5), match='1,234'>\n",
      "Output: 6,368,745 -> <re.Match object; span=(0, 9), match='6,368,745'>\n",
      "Output: 12,34,567 -> None\n",
      "Output: 1234 -> None\n"
     ]
    }
   ],
   "source": [
    "import re\n",
    "pattern = r'^\\d{1,3}(,\\d{3})*$'\n",
    "pagex = re.compile(pattern)\n",
    "for ele in ['42','1,234', '6,368,745','12,34,567','1234']:\n",
    "    print('Output:',ele, '->', pagex.search(ele))"
   ]
  },
  {
   "cell_type": "code",
   "execution_count": null,
   "id": "5929332d",
   "metadata": {},
   "outputs": [],
   "source": []
  },
  {
   "cell_type": "code",
   "execution_count": 126,
   "id": "125eaa83",
   "metadata": {},
   "outputs": [
    {
     "data": {
      "text/plain": [
       "\"21. How would you write a regex that matches the full name of someone whose last name is Watanabe? You can assume that the first name that comes before it will always be one word that begins with a capital letter. The regex must match the following:\\n'Haruto Watanabe'\\n'Alice Watanabe'\\n'RoboCop Watanabe'\\n\\nbut not the following:\\n\\n'haruto Watanabe' (where the first name is not capitalized)\\n'Mr. Watanabe' (where the preceding word has a nonletter character)\\n'Watanabe' (which has no first name)\\n'Haruto watanabe' (where Watanabe is not capitalized)\""
      ]
     },
     "execution_count": 126,
     "metadata": {},
     "output_type": "execute_result"
    }
   ],
   "source": [
    "''' Q 21. How would you write a regex that matches the full name of someone whose last name is Watanabe? You can assume that the first name that comes before it will always be one word that begins with a capital letter. The regex must match the following:\n",
    "'Haruto Watanabe'\n",
    "'Alice Watanabe'\n",
    "'RoboCop Watanabe'\n",
    "\n",
    "but not the following:\n",
    "\n",
    "'haruto Watanabe' (where the first name is not capitalized)\n",
    "'Mr. Watanabe' (where the preceding word has a nonletter character)\n",
    "'Watanabe' (which has no first name)\n",
    "'Haruto watanabe' (where Watanabe is not capitalized)'''\n",
    "\n"
   ]
  },
  {
   "cell_type": "code",
   "execution_count": 127,
   "id": "ca373dba",
   "metadata": {},
   "outputs": [
    {
     "name": "stdout",
     "output_type": "stream",
     "text": [
      "Output:  Haruto Watanabe -> <re.Match object; span=(0, 15), match='Haruto Watanabe'>\n",
      "Output:  Alice Watanabe -> <re.Match object; span=(0, 14), match='Alice Watanabe'>\n",
      "Output:  RoboCop Watanabe -> <re.Match object; span=(4, 16), match='Cop Watanabe'>\n",
      "Output:  haruto Watanabe -> None\n",
      "Output:  Mr. Watanabe -> None\n",
      "Output:  Watanabe -> None\n",
      "Output:  Haruto watanabe -> None\n"
     ]
    }
   ],
   "source": [
    "import re\n",
    "pattern = r'[A-Z]{1}[a-z]*\\sWatanabe'\n",
    "namex = re.compile(pattern)\n",
    "for name in ['Haruto Watanabe','Alice Watanabe','RoboCop Watanabe','haruto Watanabe','Mr. Watanabe','Watanabe','Haruto watanabe']:\n",
    "    print('Output: ',name,'->',namex.search(name))"
   ]
  },
  {
   "cell_type": "code",
   "execution_count": 128,
   "id": "125f63f1",
   "metadata": {},
   "outputs": [],
   "source": [
    " # ans  Ans: pattern = r'[A-Z]{1}[a-z]*\\sWatanabe' "
   ]
  },
  {
   "cell_type": "code",
   "execution_count": null,
   "id": "fddd4bf4",
   "metadata": {},
   "outputs": [],
   "source": []
  },
  {
   "cell_type": "code",
   "execution_count": null,
   "id": "525fe0b0",
   "metadata": {},
   "outputs": [],
   "source": [
    "'''22. How would you write a regex that matches a sentence where the first word is either Alice, Bob,or Carol; the second word is either eats, pets, or throws; the third word is apples, cats, or baseballs; and the sentence ends with a period? This regex should be case-insensitive. It must match the following:\n",
    "'Alice eats apples.'\n",
    "'Bob pets cats.'\n",
    "'Carol throws baseballs.'\n",
    "'Alice throws Apples.'\n",
    "'BOB EATS CATS.'\n",
    "\n",
    "but not the following:\n",
    "\n",
    "'RoboCop eats apples.'\n",
    "'ALICE THROWS FOOTBALLS.'\n",
    "'Carol eats 7 cats.'''\n",
    "\n",
    "\n",
    "\n"
   ]
  },
  {
   "cell_type": "code",
   "execution_count": 133,
   "id": "0178c0ed",
   "metadata": {},
   "outputs": [
    {
     "name": "stdout",
     "output_type": "stream",
     "text": [
      "Output:  Alice eats apples. -> <re.Match object; span=(0, 18), match='Alice eats apples.'>\n",
      "Output:  Bob pets cats. -> <re.Match object; span=(0, 14), match='Bob pets cats.'>\n",
      "Output:  Carol throws baseballs. -> <re.Match object; span=(0, 23), match='Carol throws baseballs.'>\n",
      "Output:  Alice throws Apples. -> <re.Match object; span=(0, 20), match='Alice throws Apples.'>\n",
      "Output:  BOB EATS CATS. -> <re.Match object; span=(0, 14), match='BOB EATS CATS.'>\n",
      "Output:  RoboCop eats apples. -> None\n",
      "Output:  ALICE THROWS FOOTBALLS. -> None\n",
      "Output:  Carol eats 7 cats. -> None\n"
     ]
    }
   ],
   "source": [
    "import re\n",
    "pattern = r'(Alice|Bob|Carol)\\s(eats|pets|throws)\\s(apples|cats|baseballs)\\.'\n",
    "casex = re.compile(pattern,re.IGNORECASE)\n",
    "for ele in ['Alice eats apples.','Bob pets cats.','Carol throws baseballs.','Alice throws Apples.','BOB EATS CATS.','RoboCop eats apples.'\n",
    ",'ALICE THROWS FOOTBALLS.','Carol eats 7 cats.']:\n",
    "    print('Output: ',ele,'->',casex.search(ele))\n",
    "\n",
    "\n"
   ]
  },
  {
   "cell_type": "code",
   "execution_count": null,
   "id": "82c7586d",
   "metadata": {},
   "outputs": [],
   "source": []
  },
  {
   "cell_type": "code",
   "execution_count": null,
   "id": "6b7ac40a",
   "metadata": {},
   "outputs": [],
   "source": []
  }
 ],
 "metadata": {
  "kernelspec": {
   "display_name": "Python 3 (ipykernel)",
   "language": "python",
   "name": "python3"
  },
  "language_info": {
   "codemirror_mode": {
    "name": "ipython",
    "version": 3
   },
   "file_extension": ".py",
   "mimetype": "text/x-python",
   "name": "python",
   "nbconvert_exporter": "python",
   "pygments_lexer": "ipython3",
   "version": "3.9.12"
  }
 },
 "nbformat": 4,
 "nbformat_minor": 5
}
