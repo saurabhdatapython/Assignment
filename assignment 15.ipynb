{
 "cells": [
  {
   "cell_type": "markdown",
   "id": "1b2dbfdd",
   "metadata": {},
   "source": [
    "Q 1  .How many seconds are in an hour? Use the interactive interpreter as a calculator and multiply the number of seconds in a     minute (60) by the number of minutes in an hour (also 60).\n"
   ]
  },
  {
   "cell_type": "code",
   "execution_count": 1,
   "id": "c672ff62",
   "metadata": {},
   "outputs": [
    {
     "name": "stdout",
     "output_type": "stream",
     "text": [
      "3600\n"
     ]
    }
   ],
   "source": [
    "print(60*60)"
   ]
  },
  {
   "cell_type": "markdown",
   "id": "cc6258fd",
   "metadata": {},
   "source": [
    "Q 2 . Assign the result from the previous task (seconds in an hour) to a variable called seconds_per_hour."
   ]
  },
  {
   "cell_type": "code",
   "execution_count": 2,
   "id": "21f9f0c3",
   "metadata": {},
   "outputs": [],
   "source": [
    "seconds_per_hour = 60*60"
   ]
  },
  {
   "cell_type": "code",
   "execution_count": 3,
   "id": "06cc7932",
   "metadata": {},
   "outputs": [
    {
     "data": {
      "text/plain": [
       "3600"
      ]
     },
     "execution_count": 3,
     "metadata": {},
     "output_type": "execute_result"
    }
   ],
   "source": [
    "seconds_per_hour"
   ]
  },
  {
   "cell_type": "markdown",
   "id": "3e64259b",
   "metadata": {},
   "source": [
    "Q 3 . How many seconds do you think there are in a day? Make use of the variables seconds per hour and minutes per hour."
   ]
  },
  {
   "cell_type": "code",
   "execution_count": 5,
   "id": "36de1275",
   "metadata": {},
   "outputs": [
    {
     "name": "stdout",
     "output_type": "stream",
     "text": [
      "86400\n"
     ]
    }
   ],
   "source": [
    "second_per_hour = 60*60\n",
    "hour_inday = 24\n",
    "second_inday = second_per_hour*hour_inday\n",
    "print(second_inday)"
   ]
  },
  {
   "cell_type": "markdown",
   "id": "000b1f13",
   "metadata": {},
   "source": [
    "Q 4. Calculate seconds per day again, but this time save the result in a variable called seconds_per_day"
   ]
  },
  {
   "cell_type": "code",
   "execution_count": 10,
   "id": "3fbe639c",
   "metadata": {},
   "outputs": [
    {
     "name": "stdout",
     "output_type": "stream",
     "text": [
      "86400\n"
     ]
    }
   ],
   "source": [
    "seconds_per_day = 24*60*60\n",
    "print(seconds_per_day)"
   ]
  },
  {
   "cell_type": "markdown",
   "id": "02cb81a6",
   "metadata": {},
   "source": [
    "Q 5. Divide seconds_per_day by seconds_per_hour. Use floating-point (/) division."
   ]
  },
  {
   "cell_type": "code",
   "execution_count": 11,
   "id": "8b5bd9ab",
   "metadata": {},
   "outputs": [
    {
     "name": "stdout",
     "output_type": "stream",
     "text": [
      "24.0\n"
     ]
    }
   ],
   "source": [
    "print(seconds_per_day/second_per_hour)"
   ]
  },
  {
   "cell_type": "markdown",
   "id": "e479a4ed",
   "metadata": {},
   "source": [
    " Q 6. Divide seconds_per_day by seconds_per_hour, using integer (//) division. Did this number agree with the floating-point value from the previous question, aside from the final .0?"
   ]
  },
  {
   "cell_type": "markdown",
   "id": "e5a4692f",
   "metadata": {},
   "source": [
    "Q 6. Divide seconds_per_day by seconds_per_hour, using integer (//) division. Did this number agree with the floating-point value from the previous question, aside from the final .0?"
   ]
  },
  {
   "cell_type": "code",
   "execution_count": 12,
   "id": "99cf3957",
   "metadata": {},
   "outputs": [
    {
     "name": "stdout",
     "output_type": "stream",
     "text": [
      "24\n"
     ]
    }
   ],
   "source": [
    "print(seconds_per_day//second_per_hour)"
   ]
  },
  {
   "cell_type": "markdown",
   "id": "af9583b0",
   "metadata": {},
   "source": [
    " yes this values agree with the floating point value from the previous question"
   ]
  },
  {
   "cell_type": "markdown",
   "id": "cd1b8c20",
   "metadata": {},
   "source": [
    "Q 7. Write a generator, genPrimes, that returns the sequence of prime numbers on successive calls to\n",
    "its next() method: 2, 3, 5, 7, 11, ...          "
   ]
  },
  {
   "cell_type": "code",
   "execution_count": 1,
   "id": "479988ca",
   "metadata": {},
   "outputs": [],
   "source": [
    "def is_prime(num):\n",
    "    for i in range(2,num):\n",
    "        if(num%i == 0):\n",
    "            return False\n",
    "    return True"
   ]
  },
  {
   "cell_type": "code",
   "execution_count": 2,
   "id": "90ecc389",
   "metadata": {},
   "outputs": [],
   "source": [
    "\n",
    "def genPrimes(n):\n",
    "    num = 2 \n",
    "    while n:\n",
    "        if is_prime(num):\n",
    "            yield num\n",
    "            n= n-1\n",
    "        num = num + 1\n",
    "    return\n"
   ]
  },
  {
   "cell_type": "code",
   "execution_count": 11,
   "id": "d6cc1c06",
   "metadata": {},
   "outputs": [
    {
     "name": "stdout",
     "output_type": "stream",
     "text": [
      "2,3,5,7,11,"
     ]
    }
   ],
   "source": [
    "a = genPrimes(5)\n",
    "for e in range(5):\n",
    "    print(next(a),end = \",\")"
   ]
  },
  {
   "cell_type": "code",
   "execution_count": null,
   "id": "7d6bdc36",
   "metadata": {},
   "outputs": [],
   "source": []
  }
 ],
 "metadata": {
  "kernelspec": {
   "display_name": "Python 3 (ipykernel)",
   "language": "python",
   "name": "python3"
  },
  "language_info": {
   "codemirror_mode": {
    "name": "ipython",
    "version": 3
   },
   "file_extension": ".py",
   "mimetype": "text/x-python",
   "name": "python",
   "nbconvert_exporter": "python",
   "pygments_lexer": "ipython3",
   "version": "3.9.12"
  }
 },
 "nbformat": 4,
 "nbformat_minor": 5
}
