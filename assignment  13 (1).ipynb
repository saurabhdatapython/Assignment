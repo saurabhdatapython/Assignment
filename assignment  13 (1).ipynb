{
 "cells": [
  {
   "cell_type": "markdown",
   "id": "cf2cff29",
   "metadata": {},
   "source": [
    "Q 1. What advantages do Excel spreadsheets have over CSV spreadsheets?\n",
    "\n",
    "Ans: The Advantages of Excel over CSV are:\n",
    "\n",
    "Excel (XLS and XLSX) file formats are better for storing and analysing complex data.\n",
    "An Excel not only stores data but can also do operations on the data using macros, formulas etc\n",
    "CSV files are plain-text files, Does not contain formatting, formulas, macros, etc. It is also known as flat files"
   ]
  },
  {
   "cell_type": "markdown",
   "id": "68eeb9c7",
   "metadata": {},
   "source": [
    "Q 2.What do you pass to csv.reader() and csv.writer() to create reader and writer objects?"
   ]
  },
  {
   "cell_type": "code",
   "execution_count": null,
   "id": "f302a463",
   "metadata": {},
   "outputs": [],
   "source": [
    "import csv\n",
    "with open('text.csv','r') as file:\n",
    "    csv_file = csv.reader(file,delimiter=',')\n",
    "    for ele in csv_file:\n",
    "        print(ele)"
   ]
  },
  {
   "cell_type": "markdown",
   "id": "725b7f8a",
   "metadata": {},
   "source": [
    "Q 3. What modes do File objects for reader and writer objects need to be opened in?"
   ]
  },
  {
   "cell_type": "markdown",
   "id": "c9eb2fa7",
   "metadata": {},
   "source": [
    "Ans: For csv.reader(iterable_file_object), the file objects needed to be opened in read mode mode='r' Whereas for csv.writer(iterable_file_object) the file objects needed to be opened in write mode mode='w'"
   ]
  },
  {
   "cell_type": "markdown",
   "id": "863e4186",
   "metadata": {},
   "source": [
    "Q 4. What method takes a list argument and writes it to a CSV file?\n",
    "\n",
    "\n",
    "Ans: csv.writer class provides two methods for writing to CSV. They are writerow() and writerows(). writerow() method writes a single row at a time. Whereas writerows() method is used to write multiple rows at a time."
   ]
  },
  {
   "cell_type": "code",
   "execution_count": 2,
   "id": "e3302944",
   "metadata": {},
   "outputs": [],
   "source": [
    "# Example Program\n",
    "import csv      \n",
    "fields = ['Name', 'Branch', 'Year', 'CGPA'] #column names \n",
    "rows = [ \n",
    "            ['Nikhil', 'COE', '2', '9.0'],  # data rows of csv file \n",
    "            ['Sanchit', 'COE', '2', '9.1'], \n",
    "            ['Ravi', 'IT', '2', '9.3']\n",
    "       ] \n",
    "with open(\"university_records.csv\", 'w') as csvfile: \n",
    "    csvwriter = csv.writer(csvfile) # creating a csv writer object \n",
    "    csvwriter.writerow(fields) # writing the fields \n",
    "    csvwriter.writerows(rows) # writing the data rows "
   ]
  },
  {
   "cell_type": "markdown",
   "id": "3287d18b",
   "metadata": {},
   "source": [
    "Q 5. What do the keyword arguments delimiter and line terminator do?\n",
    "\n",
    "\n",
    "\n",
    "Ans: Lets take the example of a csv file:\n",
    "        \n",
    "        \n",
    "First Name, Last Name, Age\n",
    "\n",
    "Mano, Vishnu, 24\n",
    "\n",
    "Vishnu, Vardhan, 21\n",
    "\n",
    "Here ',' is Delimiter. We can use any Character as per our needs if required. \n",
    "Similarly Line Terminator comes at end of line by default it is newline and can be changed accourding to Requirement."
   ]
  },
  {
   "cell_type": "markdown",
   "id": "8d4176e6",
   "metadata": {},
   "source": [
    "Q 6. What function takes a string of JSON data and returns a Python data structure?\n",
    "\n",
    "Ans: loads() method takes a string of JSON data and returns a Python data structure"
   ]
  },
  {
   "cell_type": "code",
   "execution_count": 23,
   "id": "4c45791f",
   "metadata": {},
   "outputs": [
    {
     "name": "stdout",
     "output_type": "stream",
     "text": [
      "Requirement already satisfied: jason in c:\\users\\samsung\\anaconda3\\lib\\site-packages (0.1.7)\n",
      "Note: you may need to restart the kernel to use updated packages.\n"
     ]
    }
   ],
   "source": [
    "pip install  jason"
   ]
  },
  {
   "cell_type": "code",
   "execution_count": null,
   "id": "70bc7fd3",
   "metadata": {},
   "outputs": [],
   "source": [
    "\n"
   ]
  },
  {
   "cell_type": "code",
   "execution_count": 36,
   "id": "9880c3f3",
   "metadata": {},
   "outputs": [
    {
     "name": "stdout",
     "output_type": "stream",
     "text": [
      "{\n",
      "    \"Name\": \"saurabh\",\n",
      "    \"Qualification\": \"mca\",\n",
      "    \"Stream\": \"data\"\n",
      "}\n",
      "Type of my_details_json is <class 'str'>\n",
      "{'Name': 'saurabh', 'Qualification': 'mca', 'Stream': 'data'}\n",
      "Type of my_details is <class 'dict'>\n"
     ]
    }
   ],
   "source": [
    "# Example of json.loads() method\n",
    "import json\n",
    "my_details_json ='''{\n",
    "    \"Name\": \"saurabh\",\n",
    "    \"Qualification\": \"mca\",\n",
    "    \"Stream\": \"data\"\n",
    "}'''\n",
    "print(my_details_json)\n",
    "print(f'Type of my_details_json is {type(my_details_json)}')\n",
    "my_details = json.loads(my_details_json)\n",
    "print(my_details)\n",
    "print(f'Type of my_details is {type(my_details)}')"
   ]
  },
  {
   "cell_type": "markdown",
   "id": "266b209b",
   "metadata": {},
   "source": [
    "Q 7. What function takes a Python data structure and returns a string of JSON data?\n",
    "\n",
    "\n",
    "Ans: dumps() method takes a python data structure and returns a string of JSON data"
   ]
  },
  {
   "cell_type": "code",
   "execution_count": 35,
   "id": "f8dd9c66",
   "metadata": {},
   "outputs": [
    {
     "name": "stdout",
     "output_type": "stream",
     "text": [
      "{'Name': 'saurabh choudhary', 'Stream': 'it', 'Qualification': 'Bachelor of Technology'}\n",
      "Type of my_details is <class 'dict'>\n",
      "{\n",
      "        \"Name\": \"saurabh choudhary\",\n",
      "        \"Qualification\": \"Bachelor of Technology\",\n",
      "        \"Stream\": \"it\"\n",
      "}\n",
      "Type of my_details_json is <class 'str'>\n"
     ]
    }
   ],
   "source": [
    "# Example of json.dumps() method\n",
    "import json\n",
    "my_details = {\n",
    "    'Name':'saurabh choudhary',\n",
    "    'Stream':'it',\n",
    "    'Qualification':'Bachelor of Technology'\n",
    "}\n",
    "print(my_details)\n",
    "print(f'Type of my_details is {type(my_details)}')\n",
    "my_details_json = json.dumps(my_details, indent=8, sort_keys=True)\n",
    "print(my_details_json)\n",
    "print(f'Type of my_details_json is {type(my_details_json)}')"
   ]
  },
  {
   "cell_type": "code",
   "execution_count": null,
   "id": "7a1f4f2c",
   "metadata": {},
   "outputs": [],
   "source": []
  }
 ],
 "metadata": {
  "kernelspec": {
   "display_name": "Python 3 (ipykernel)",
   "language": "python",
   "name": "python3"
  },
  "language_info": {
   "codemirror_mode": {
    "name": "ipython",
    "version": 3
   },
   "file_extension": ".py",
   "mimetype": "text/x-python",
   "name": "python",
   "nbconvert_exporter": "python",
   "pygments_lexer": "ipython3",
   "version": "3.9.12"
  }
 },
 "nbformat": 4,
 "nbformat_minor": 5
}
