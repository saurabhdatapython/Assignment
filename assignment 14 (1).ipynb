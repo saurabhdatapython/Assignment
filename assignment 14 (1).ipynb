{
 "cells": [
  {
   "cell_type": "markdown",
   "id": "f940ac7c",
   "metadata": {},
   "source": [
    "Q 1. What does RGBA stand for?\n",
    "\n",
    "\n",
    "Ans: RGBA is a four-channel format containing data for Red, Green, Blue, and an Alpha value. Where Alpha Represents the Opacity"
   ]
  },
  {
   "cell_type": "markdown",
   "id": "cab5d3cf",
   "metadata": {},
   "source": [
    "Q 2. From the Pillow module, how do you get the RGBA value of any images?"
   ]
  },
  {
   "cell_type": "markdown",
   "id": "4075e0a8",
   "metadata": {},
   "source": [
    " Ans ImageColor.getcolor() #gives rgba value of any image"
   ]
  },
  {
   "cell_type": "markdown",
   "id": "1547a55d",
   "metadata": {},
   "source": [
    "Q 3. What is a box tuple, and how does it work?"
   ]
  },
  {
   "cell_type": "markdown",
   "id": "2fbc1f0f",
   "metadata": {},
   "source": [
    "Ans: A box tuple is a tuple value of four integers: the left-edge x-coordinate, the top-edge y-coordinate,the width, and the height, respectively."
   ]
  },
  {
   "cell_type": "markdown",
   "id": "f95c3a5d",
   "metadata": {},
   "source": [
    "Q 4. Use your image and load in notebook then, How can you find out the width and height of an Image object?\n"
   ]
  },
  {
   "cell_type": "code",
   "execution_count": 27,
   "id": "68fbda7b",
   "metadata": {},
   "outputs": [
    {
     "name": "stdout",
     "output_type": "stream",
     "text": [
      "Width, Height -> (1366, 768)\n",
      "Width, Height -> 1366,768\n"
     ]
    }
   ],
   "source": [
    "#Example Program\n",
    "from PIL import Image,ImageColor\n",
    "pic = Image.open('Screenshot (15).png')\n",
    "print(f'Width, Height -> {pic.size}') # Approach 1\n",
    "print(f'Width, Height -> {pic.width},{pic.height}') # Approach 2\n",
    "\n",
    "\n"
   ]
  },
  {
   "cell_type": "markdown",
   "id": "20bef877",
   "metadata": {},
   "source": [
    "Q 5. What method would you call to get Image object for a 100×100 image, excluding the lower-left quarter of it?"
   ]
  },
  {
   "cell_type": "code",
   "execution_count": 28,
   "id": "ef0d7c22",
   "metadata": {},
   "outputs": [],
   "source": [
    "from PIL import Image\n",
    "img = Image.open('Screenshot (15).png')\n",
    "new_img = img.crop((0,50,50,50))\n"
   ]
  },
  {
   "cell_type": "markdown",
   "id": "d4eab99b",
   "metadata": {},
   "source": [
    "Q 6. After making changes to an Image object, how could you save it as an image file?"
   ]
  },
  {
   "cell_type": "code",
   "execution_count": 31,
   "id": "ae875b14",
   "metadata": {},
   "outputs": [],
   "source": [
    "#Example Program\n",
    "from PIL import Image\n",
    "pic = Image.open('Screenshot (15).png')\n",
    "pic.save('Screenshot (15).png')"
   ]
  },
  {
   "cell_type": "markdown",
   "id": "d6365fd5",
   "metadata": {},
   "source": [
    "Q 7. What module contains Pillow’s shape-drawing code?"
   ]
  },
  {
   "cell_type": "markdown",
   "id": "cca2f61a",
   "metadata": {},
   "source": [
    "Ans: Pillows ImageDraw module contains Shape drawing methods"
   ]
  },
  {
   "cell_type": "markdown",
   "id": "1b18f31d",
   "metadata": {},
   "source": [
    "Q 8. Image objects do not have drawing methods. What kind of object does? How do you get this kind of object?"
   ]
  },
  {
   "cell_type": "markdown",
   "id": "3f52eece",
   "metadata": {},
   "source": [
    "Ans: ImageDraw objects have shape-drawing methods such as point(), line(), or rectangle().They are returned by passing the Image object to the ImageDraw.Draw() function."
   ]
  },
  {
   "cell_type": "code",
   "execution_count": null,
   "id": "986b9a60",
   "metadata": {},
   "outputs": [],
   "source": []
  }
 ],
 "metadata": {
  "kernelspec": {
   "display_name": "Python 3 (ipykernel)",
   "language": "python",
   "name": "python3"
  },
  "language_info": {
   "codemirror_mode": {
    "name": "ipython",
    "version": 3
   },
   "file_extension": ".py",
   "mimetype": "text/x-python",
   "name": "python",
   "nbconvert_exporter": "python",
   "pygments_lexer": "ipython3",
   "version": "3.9.12"
  }
 },
 "nbformat": 4,
 "nbformat_minor": 5
}
