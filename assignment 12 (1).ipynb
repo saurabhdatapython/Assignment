{
 "cells": [
  {
   "cell_type": "markdown",
   "id": "c95a123d",
   "metadata": {},
   "source": [
    "Q 1 In what modes should the PdfFileReader() and PdfFileWriter() File objects will be opened?"
   ]
  },
  {
   "cell_type": "markdown",
   "id": "99211112",
   "metadata": {},
   "source": [
    "Ans: For PdfFileReader() file objects should be opened in rb -> read binary mode, Whereas for PdfFileWriter() file objects should be opened in wb -> write binary mode."
   ]
  },
  {
   "cell_type": "markdown",
   "id": "7620bebe",
   "metadata": {},
   "source": [
    "Q 2. From a PdfFileReader object, how do you get a Page object for page 5?\n",
    "Ans: PdfFileReader class provides a method called getPage(page_no) to get a page object."
   ]
  },
  {
   "cell_type": "markdown",
   "id": "a834963b",
   "metadata": {},
   "source": [
    "Ans: PdfFileReader class provides a method called getPage(page_no) to get a page object."
   ]
  },
  {
   "cell_type": "markdown",
   "id": "ae4060fc",
   "metadata": {},
   "source": [
    "Q 3. What PdfFileReader variable stores the number of pages in the PDF document?"
   ]
  },
  {
   "cell_type": "markdown",
   "id": "c2cb4c97",
   "metadata": {},
   "source": [
    "Ans: getNumPages() method of PdfFileReader class stores the no pages in a PDF document\n",
    "\n"
   ]
  },
  {
   "cell_type": "markdown",
   "id": "628d3069",
   "metadata": {},
   "source": [
    "Q 4. If a PdfFileReader object’s PDF is encrypted with the password swordfish, what must you do before you can obtain Page objects from it?"
   ]
  },
  {
   "cell_type": "markdown",
   "id": "4b919baa",
   "metadata": {},
   "source": [
    "ans we will use decrypt(\"swordfish\")"
   ]
  },
  {
   "cell_type": "code",
   "execution_count": null,
   "id": "67006349",
   "metadata": {},
   "outputs": [],
   "source": [
    "from PyPDF2 import PdfFileReader\n",
    "pdf_reader = PdfFileReader(file_path)\n",
    "if pdf_reader.isEncrypted: # to check whether the pdf is encrypted or not\n",
    "    pdf_reader.decrypt(\"swordfish\")\n",
    "for page in pdf_reader.pages:\n",
    "    print(page.extractText()) # to print the text data of a page from pdf"
   ]
  },
  {
   "cell_type": "code",
   "execution_count": null,
   "id": "3cf17654",
   "metadata": {},
   "outputs": [],
   "source": []
  },
  {
   "cell_type": "markdown",
   "id": "7538743c",
   "metadata": {},
   "source": [
    "Q 5. What methods do you use to rotate a page?"
   ]
  },
  {
   "cell_type": "markdown",
   "id": "c45be813",
   "metadata": {},
   "source": [
    "1 rotateClockWise() -> For Clockwise rotation\n",
    "\n",
    "\n",
    "2 rotateCounterClockWise() -> For Counter Clockwise rotation"
   ]
  },
  {
   "cell_type": "markdown",
   "id": "9efc91b0",
   "metadata": {},
   "source": [
    "Q 6. What is the difference between a Run object and a Paragraph object?"
   ]
  },
  {
   "cell_type": "markdown",
   "id": "54b5317c",
   "metadata": {},
   "source": [
    "Ans: The structure of a document is represented by three different data types in python-Docx. At the highest level, a Document object represents the entire document. The Document object contains a list of Paragraph objects for the paragraphs in the document. (A new paragraph begins whenever the user presses ENTER or RETURN while typing in a Word document.) Each of these Paragraph objects contains a list of one or more Run objects.\n",
    "\n",
    "The text in a Word document is more than just a string. It has font, size, color, and other styling information associated with it. A style in Word is a collection of these attributes. A Run object is a contiguous run of text with the same style. A new Run object is needed whenever the text style changes."
   ]
  },
  {
   "cell_type": "markdown",
   "id": "e3712a85",
   "metadata": {},
   "source": [
    "Q 7. How do you obtain a list of Paragraph objects for a Document object that’s stored in a variable named doc?"
   ]
  },
  {
   "cell_type": "code",
   "execution_count": null,
   "id": "c5eb9681",
   "metadata": {},
   "outputs": [],
   "source": [
    "# Example Program\n",
    "from docx import Document\n",
    "doc = Document(\"sample_file.docx\") # Path of the Docx file\n",
    "print(doc.paragraphs) # Prints the list of Paragraph objects for a Document\n",
    "for paragraph in doc.paragraphs:\n",
    "    print(paragraph.text) # Prints the text in the paragraph\n"
   ]
  },
  {
   "cell_type": "code",
   "execution_count": 3,
   "id": "38e04a80",
   "metadata": {},
   "outputs": [
    {
     "name": "stdout",
     "output_type": "stream",
     "text": [
      "Object `variables` not found.\n"
     ]
    }
   ],
   "source": [
    "Q 8. What type of object has bold, underline, italic, strike, and outline variables?"
   ]
  },
  {
   "cell_type": "code",
   "execution_count": null,
   "id": "886a172a",
   "metadata": {},
   "outputs": [],
   "source": [
    "Q 8. What type of object has bold, underline, italic, strike, and outline variables"
   ]
  },
  {
   "cell_type": "markdown",
   "id": "18d5bbee",
   "metadata": {},
   "source": [
    "Ans: Run object has bold, underline, italic, strike, and outline variables. The text in a Word document is more than just a string. It has font, size, color, and other styling information associated with it."
   ]
  },
  {
   "cell_type": "markdown",
   "id": "6106aa9f",
   "metadata": {},
   "source": [
    "Q 9. What is the difference between False, True, and None for the bold variable?"
   ]
  },
  {
   "cell_type": "code",
   "execution_count": null,
   "id": "d830ed50",
   "metadata": {},
   "outputs": [],
   "source": [
    "bold = True  # Style Set to Bold\n",
    "bold = False # Style Not Set to Bold\n",
    "bold = None # Style is Not Applicable"
   ]
  },
  {
   "cell_type": "markdown",
   "id": "cd7b69b9",
   "metadata": {},
   "source": [
    "Q 10. How do you create a Document object for a new Word document"
   ]
  },
  {
   "cell_type": "code",
   "execution_count": null,
   "id": "d1ff175d",
   "metadata": {},
   "outputs": [],
   "source": [
    "# Example Program     \n",
    "from docx import Document\n",
    "document = Document()               # Path of the Docx file doc is a  object of document\n",
    "document.add_paragraph(\"iNeuron Full Stack DataScience Course\")\n",
    "document.save('mydocument.docx') "
   ]
  },
  {
   "cell_type": "markdown",
   "id": "84d3d2ee",
   "metadata": {},
   "source": [
    "Q 11. How do you add a paragraph with the text 'Hello, there!' to a Document object stored in a variable named doc?"
   ]
  },
  {
   "cell_type": "code",
   "execution_count": null,
   "id": "a19d9988",
   "metadata": {},
   "outputs": [],
   "source": [
    "# Example Program\n",
    "from docx import Document\n",
    "doc = Document()\n",
    "doc.add_paragraph('Hello, there!')\n",
    "doc.save('hello.docx')"
   ]
  },
  {
   "cell_type": "markdown",
   "id": "2197ae9d",
   "metadata": {},
   "source": [
    "Q 12. What integers represent the levels of headings available in Word documents?"
   ]
  },
  {
   "cell_type": "markdown",
   "id": "d3d31ddd",
   "metadata": {},
   "source": [
    "Ans: The levels for a heading in a word document can be specified by using the level attribute inside the add_heading method. There are a total of 5 levels statring for 0 t0 4. where level 0 makes a headline with the horizontal line below the text, whereas the heading level 1 is the main heading. Similarly, the other headings are sub-heading with their's font-sizes in decreasing order."
   ]
  },
  {
   "cell_type": "code",
   "execution_count": null,
   "id": "51755eb0",
   "metadata": {},
   "outputs": [],
   "source": []
  }
 ],
 "metadata": {
  "kernelspec": {
   "display_name": "Python 3 (ipykernel)",
   "language": "python",
   "name": "python3"
  },
  "language_info": {
   "codemirror_mode": {
    "name": "ipython",
    "version": 3
   },
   "file_extension": ".py",
   "mimetype": "text/x-python",
   "name": "python",
   "nbconvert_exporter": "python",
   "pygments_lexer": "ipython3",
   "version": "3.9.12"
  }
 },
 "nbformat": 4,
 "nbformat_minor": 5
}
