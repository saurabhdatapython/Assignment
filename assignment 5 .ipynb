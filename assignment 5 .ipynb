{
 "cells": [
  {
   "cell_type": "markdown",
   "id": "01e14fd4",
   "metadata": {},
   "source": [
    "1.What does an empty dictionary's code look like?"
   ]
  },
  {
   "cell_type": "markdown",
   "id": "e93c3200",
   "metadata": {},
   "source": [
    "Ans: An empty dictionary is often represented by two empty curly brackets"
   ]
  },
  {
   "cell_type": "raw",
   "id": "1a86f466",
   "metadata": {},
   "source": [
    "d = {} or d = dict()"
   ]
  },
  {
   "cell_type": "markdown",
   "id": "b8440957",
   "metadata": {},
   "source": [
    "2.what is the value of dictionary value with key 'foo' and the value 42 ?"
   ]
  },
  {
   "cell_type": "code",
   "execution_count": 1,
   "id": "2c67ee11",
   "metadata": {},
   "outputs": [
    {
     "data": {
      "text/plain": [
       "{'foo': 42}"
      ]
     },
     "execution_count": 1,
     "metadata": {},
     "output_type": "execute_result"
    }
   ],
   "source": [
    " {'foo':42}"
   ]
  },
  {
   "cell_type": "markdown",
   "id": "9ef974e7",
   "metadata": {},
   "source": [
    "3.What is the most significant distinction between a dictionary and a list?"
   ]
  },
  {
   "cell_type": "markdown",
   "id": "99c1f76e",
   "metadata": {},
   "source": [
    "Ans: Dictionaries are represented by {} where as listed are represented by []\n",
    "The Items stored in a dictionary are Unordered , while the items in a list are ordered"
   ]
  },
  {
   "cell_type": "markdown",
   "id": "51b982ab",
   "metadata": {},
   "source": [
    "4.What happens if you try to access spam ['foo'] if spam is {'bar':100} ?"
   ]
  },
  {
   "cell_type": "code",
   "execution_count": 2,
   "id": "6af98912",
   "metadata": {},
   "outputs": [
    {
     "data": {
      "text/plain": [
       "100"
      ]
     },
     "execution_count": 2,
     "metadata": {},
     "output_type": "execute_result"
    }
   ],
   "source": [
    "spam ={'bar':100} \n",
    "spam['bar']"
   ]
  },
  {
   "cell_type": "code",
   "execution_count": 3,
   "id": "a91c1652",
   "metadata": {},
   "outputs": [
    {
     "ename": "KeyError",
     "evalue": "'foo'",
     "output_type": "error",
     "traceback": [
      "\u001b[1;31m---------------------------------------------------------------------------\u001b[0m",
      "\u001b[1;31mKeyError\u001b[0m                                  Traceback (most recent call last)",
      "Input \u001b[1;32mIn [3]\u001b[0m, in \u001b[0;36m<cell line: 1>\u001b[1;34m()\u001b[0m\n\u001b[1;32m----> 1\u001b[0m \u001b[43mspam\u001b[49m\u001b[43m[\u001b[49m\u001b[38;5;124;43m'\u001b[39;49m\u001b[38;5;124;43mfoo\u001b[39;49m\u001b[38;5;124;43m'\u001b[39;49m\u001b[43m]\u001b[49m\n",
      "\u001b[1;31mKeyError\u001b[0m: 'foo'"
     ]
    }
   ],
   "source": [
    "spam['foo']# it will give key error"
   ]
  },
  {
   "cell_type": "markdown",
   "id": "9bd467fa",
   "metadata": {},
   "source": [
    "5.if a dictionary is stored in spam,what is the difference between the expressions 'cat' in spam and 'cat' in spam.keys() ?"
   ]
  },
  {
   "cell_type": "code",
   "execution_count": 19,
   "id": "1a12e342",
   "metadata": {},
   "outputs": [],
   "source": [
    "spam = {}"
   ]
  },
  {
   "cell_type": "code",
   "execution_count": 20,
   "id": "5bc1894b",
   "metadata": {},
   "outputs": [
    {
     "data": {
      "text/plain": [
       "False"
      ]
     },
     "execution_count": 20,
     "metadata": {},
     "output_type": "execute_result"
    }
   ],
   "source": [
    "'cat' in spam # it will give false value"
   ]
  },
  {
   "cell_type": "code",
   "execution_count": 21,
   "id": "a90b5290",
   "metadata": {},
   "outputs": [
    {
     "ename": "AttributeError",
     "evalue": "'dict' object has no attribute 'key'",
     "output_type": "error",
     "traceback": [
      "\u001b[1;31m---------------------------------------------------------------------------\u001b[0m",
      "\u001b[1;31mAttributeError\u001b[0m                            Traceback (most recent call last)",
      "Input \u001b[1;32mIn [21]\u001b[0m, in \u001b[0;36m<cell line: 1>\u001b[1;34m()\u001b[0m\n\u001b[1;32m----> 1\u001b[0m \u001b[38;5;124m'\u001b[39m\u001b[38;5;124mcat\u001b[39m\u001b[38;5;124m'\u001b[39m \u001b[38;5;129;01min\u001b[39;00m \u001b[43mspam\u001b[49m\u001b[38;5;241;43m.\u001b[39;49m\u001b[43mkey\u001b[49m()\n",
      "\u001b[1;31mAttributeError\u001b[0m: 'dict' object has no attribute 'key'"
     ]
    }
   ],
   "source": [
    "'cat' in spam.key()#and it  will give error AttributeError: 'dict' object has no attribute 'key'"
   ]
  },
  {
   "cell_type": "raw",
   "id": "a9d286d2",
   "metadata": {},
   "source": [
    "6.if a dictionary is stored in spam,what is the difference between the expressions 'cat' in spam and 'cat' in spam.values() ?"
   ]
  },
  {
   "cell_type": "code",
   "execution_count": 18,
   "id": "15cacf42",
   "metadata": {},
   "outputs": [
    {
     "data": {
      "text/plain": [
       "False"
      ]
     },
     "execution_count": 18,
     "metadata": {},
     "output_type": "execute_result"
    }
   ],
   "source": [
    "spam = {}\n",
    "'cat' in spam"
   ]
  },
  {
   "cell_type": "code",
   "execution_count": 22,
   "id": "35e14e9d",
   "metadata": {},
   "outputs": [
    {
     "data": {
      "text/plain": [
       "False"
      ]
     },
     "execution_count": 22,
     "metadata": {},
     "output_type": "execute_result"
    }
   ],
   "source": [
    "'cat' in spam.values() "
   ]
  },
  {
   "cell_type": "raw",
   "id": "b8a8a433",
   "metadata": {},
   "source": [
    "ans it will give same result as false"
   ]
  },
  {
   "cell_type": "raw",
   "id": "f95c7d9a",
   "metadata": {},
   "source": [
    "7.what is a shortcut for the following code ?\n",
    "if 'color' not in spam:\n",
    "    spam['color'] ='black'"
   ]
  },
  {
   "cell_type": "raw",
   "id": "329c8f11",
   "metadata": {},
   "source": [
    "Ans: spam.setdefault('color','black')"
   ]
  },
  {
   "cell_type": "raw",
   "id": "0ced0ee6",
   "metadata": {},
   "source": [
    "8.How do you 'pretty print' dictionary values using which modules and function ?"
   ]
  },
  {
   "cell_type": "raw",
   "id": "3bfc243c",
   "metadata": {},
   "source": [
    "Ans: we can pretty print a dictionary using three functions\n",
    "\n",
    "1 by using pprint() function of pprint module\n",
    "Note: pprint() function doesnot prettify nested dictionaries\n",
    "2 by using dumps() method of json module\n",
    "3 by using dumps() method of yaml module"
   ]
  },
  {
   "cell_type": "code",
   "execution_count": 24,
   "id": "cb5ac674",
   "metadata": {},
   "outputs": [
    {
     "name": "stdout",
     "output_type": "stream",
     "text": [
      "Printing using print() function\n",
      " [{'Player': 'John', 'Age': '23', 'sales in': {'by_country': 'USA', 'City': 'New York'}}, {'Player': 'Jose', 'Age': '44', 'sales in': {'by_country': 'Spain', 'City': 'Madrid'}}, {'Player': 'Anne', 'Age': '29', 'sales in': {'by_country': 'UK', 'City': 'England'}}, {'Player': 'Lee', 'Age': '35', 'sales in': {'by_country': 'Japan', 'City': 'Osaka'}}]\n",
      "----------------------------------------------------------------------\n",
      "Printing using pprint() funciton\n",
      "[{'Age': '23',\n",
      "  'Player': 'John',\n",
      "  'sales in': {'City': 'New York', 'by_country': 'USA'}},\n",
      " {'Age': '44',\n",
      "  'Player': 'Jose',\n",
      "  'sales in': {'City': 'Madrid', 'by_country': 'Spain'}},\n",
      " {'Age': '29',\n",
      "  'Player': 'Anne',\n",
      "  'sales in': {'City': 'England', 'by_country': 'UK'}},\n",
      " {'Age': '35',\n",
      "  'Player': 'Lee',\n",
      "  'sales in': {'City': 'Osaka', 'by_country': 'Japan'}}]\n",
      "----------------------------------------------------------------------\n",
      "Printing using dumps() method\n",
      " [\n",
      "    {\n",
      "        \"Player\": \"John\",\n",
      "        \"Age\": \"23\",\n",
      "        \"sales in\": {\n",
      "            \"by_country\": \"USA\",\n",
      "            \"City\": \"New York\"\n",
      "        }\n",
      "    },\n",
      "    {\n",
      "        \"Player\": \"Jose\",\n",
      "        \"Age\": \"44\",\n",
      "        \"sales in\": {\n",
      "            \"by_country\": \"Spain\",\n",
      "            \"City\": \"Madrid\"\n",
      "        }\n",
      "    },\n",
      "    {\n",
      "        \"Player\": \"Anne\",\n",
      "        \"Age\": \"29\",\n",
      "        \"sales in\": {\n",
      "            \"by_country\": \"UK\",\n",
      "            \"City\": \"England\"\n",
      "        }\n",
      "    },\n",
      "    {\n",
      "        \"Player\": \"Lee\",\n",
      "        \"Age\": \"35\",\n",
      "        \"sales in\": {\n",
      "            \"by_country\": \"Japan\",\n",
      "            \"City\": \"Osaka\"\n",
      "        }\n",
      "    }\n",
      "]\n",
      "----------------------------------------------------------------------\n",
      "Printing using dump() method\n",
      " - Age: '23'\n",
      "  Player: John\n",
      "  sales in:\n",
      "    City: New York\n",
      "    by_country: USA\n",
      "- Age: '44'\n",
      "  Player: Jose\n",
      "  sales in:\n",
      "    City: Madrid\n",
      "    by_country: Spain\n",
      "- Age: '29'\n",
      "  Player: Anne\n",
      "  sales in:\n",
      "    City: England\n",
      "    by_country: UK\n",
      "- Age: '35'\n",
      "  Player: Lee\n",
      "  sales in:\n",
      "    City: Osaka\n",
      "    by_country: Japan\n",
      "\n"
     ]
    }
   ],
   "source": [
    "new_dic = [\n",
    "  {'Player': 'John', 'Age': '23', 'sales in':{'by_country':'USA', 'City': 'New York'}},\n",
    "  {'Player': 'Jose', 'Age': '44', 'sales in':{'by_country':'Spain', 'City': 'Madrid'}},\n",
    "  {'Player': 'Anne', 'Age': '29', 'sales in':{'by_country':'UK', 'City': 'England'}},\n",
    "  {'Player': 'Lee', 'Age': '35', 'sales in':{'by_country':'Japan', 'City': 'Osaka'}}\n",
    "]\n",
    "\n",
    "print('Printing using print() function\\n',new_dic)\n",
    "print('-'*70)\n",
    "import pprint\n",
    "print('Printing using pprint() funciton')\n",
    "pprint.pprint(new_dic)\n",
    "print('-'*70)\n",
    "import json\n",
    "dump = json.dumps(new_dic, indent=4)\n",
    "print('Printing using dumps() method\\n', dump)\n",
    "print('-'*70)\n",
    "import yaml\n",
    "dump = yaml.dump(new_dic)\n",
    "print('Printing using dump() method\\n', dump)"
   ]
  },
  {
   "cell_type": "code",
   "execution_count": null,
   "id": "8630e7e9",
   "metadata": {},
   "outputs": [],
   "source": []
  }
 ],
 "metadata": {
  "kernelspec": {
   "display_name": "Python 3 (ipykernel)",
   "language": "python",
   "name": "python3"
  },
  "language_info": {
   "codemirror_mode": {
    "name": "ipython",
    "version": 3
   },
   "file_extension": ".py",
   "mimetype": "text/x-python",
   "name": "python",
   "nbconvert_exporter": "python",
   "pygments_lexer": "ipython3",
   "version": "3.9.12"
  }
 },
 "nbformat": 4,
 "nbformat_minor": 5
}
